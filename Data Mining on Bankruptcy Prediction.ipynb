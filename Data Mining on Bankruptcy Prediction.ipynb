{
 "cells": [
  {
   "cell_type": "code",
   "execution_count": 1,
   "metadata": {},
   "outputs": [],
   "source": [
    "import numpy as np\n",
    "import pandas as pd\n",
    "import matplotlib.pyplot as plt\n",
    "import seaborn as sns\n",
    "from sklearn.preprocessing import LabelEncoder"
   ]
  },
  {
   "cell_type": "code",
   "execution_count": 2,
   "metadata": {},
   "outputs": [],
   "source": [
    "dataset = pd.read_csv('C:/Users/Hoe/Desktop/Learning/Dataset/Qualitative Bankruptcy/Qualitative_Bankruptcy.csv')\n",
    "#dataset = pd.read_csv('C:/Users/kh.low/Desktop/Python/Dataset/Qualitative_Bankruptcy.csv')"
   ]
  },
  {
   "cell_type": "code",
   "execution_count": 3,
   "metadata": {},
   "outputs": [],
   "source": [
    "#Actual default risk assestment\n",
    "\n",
    "#1. preliminary investigation\n",
    "#2. financial statement analysis\n",
    "#3. industry level analysis\n",
    "#4. company level analysis\n",
    "#5. financing strategy evaluation\n",
    "#6. default risk estimation"
   ]
  },
  {
   "cell_type": "code",
   "execution_count": 4,
   "metadata": {},
   "outputs": [],
   "source": [
    "#6 features about the risk factors for the risk assestment\n",
    "\n",
    "#1. Industrial Risk (IR)\n",
    "#2. Management Risk (MR)\n",
    "#3. Financial Flexibility (FF)\n",
    "#4. Credibility (CR)\n",
    "#5. Competitiviness (CO)\n",
    "#6. Operation Risk (OP)"
   ]
  },
  {
   "cell_type": "code",
   "execution_count": 5,
   "metadata": {},
   "outputs": [],
   "source": [
    "#1. IR: The stability & the growth of the industry\n",
    "#2. MR: The efficiency & the stability of the management & organization structure\n",
    "#3. FF: Firm's financial ability\n",
    "#4. CR: The reputation of the firm associated with the credit history.\n",
    "#5. CO: Degree of the competitive advantage determined by market position.\n",
    "#6. OP: The stability of procurement, the efficiency of production and the stability of sales, "
   ]
  },
  {
   "cell_type": "code",
   "execution_count": 6,
   "metadata": {},
   "outputs": [
    {
     "data": {
      "text/plain": [
       "(250, 8)"
      ]
     },
     "execution_count": 6,
     "metadata": {},
     "output_type": "execute_result"
    }
   ],
   "source": [
    "dataset.shape"
   ]
  },
  {
   "cell_type": "code",
   "execution_count": 7,
   "metadata": {},
   "outputs": [
    {
     "data": {
      "text/html": [
       "<div>\n",
       "<style scoped>\n",
       "    .dataframe tbody tr th:only-of-type {\n",
       "        vertical-align: middle;\n",
       "    }\n",
       "\n",
       "    .dataframe tbody tr th {\n",
       "        vertical-align: top;\n",
       "    }\n",
       "\n",
       "    .dataframe thead th {\n",
       "        text-align: right;\n",
       "    }\n",
       "</style>\n",
       "<table border=\"1\" class=\"dataframe\">\n",
       "  <thead>\n",
       "    <tr style=\"text-align: right;\">\n",
       "      <th></th>\n",
       "      <th>id</th>\n",
       "      <th>IR</th>\n",
       "      <th>MR</th>\n",
       "      <th>FF</th>\n",
       "      <th>CR</th>\n",
       "      <th>CO</th>\n",
       "      <th>OP</th>\n",
       "      <th>Class</th>\n",
       "    </tr>\n",
       "  </thead>\n",
       "  <tbody>\n",
       "    <tr>\n",
       "      <th>0</th>\n",
       "      <td>1</td>\n",
       "      <td>P</td>\n",
       "      <td>P</td>\n",
       "      <td>A</td>\n",
       "      <td>A</td>\n",
       "      <td>A</td>\n",
       "      <td>P</td>\n",
       "      <td>NB</td>\n",
       "    </tr>\n",
       "    <tr>\n",
       "      <th>1</th>\n",
       "      <td>2</td>\n",
       "      <td>N</td>\n",
       "      <td>N</td>\n",
       "      <td>A</td>\n",
       "      <td>A</td>\n",
       "      <td>A</td>\n",
       "      <td>N</td>\n",
       "      <td>NB</td>\n",
       "    </tr>\n",
       "    <tr>\n",
       "      <th>2</th>\n",
       "      <td>3</td>\n",
       "      <td>A</td>\n",
       "      <td>A</td>\n",
       "      <td>A</td>\n",
       "      <td>A</td>\n",
       "      <td>A</td>\n",
       "      <td>A</td>\n",
       "      <td>NB</td>\n",
       "    </tr>\n",
       "    <tr>\n",
       "      <th>3</th>\n",
       "      <td>4</td>\n",
       "      <td>P</td>\n",
       "      <td>P</td>\n",
       "      <td>P</td>\n",
       "      <td>P</td>\n",
       "      <td>P</td>\n",
       "      <td>P</td>\n",
       "      <td>NB</td>\n",
       "    </tr>\n",
       "    <tr>\n",
       "      <th>4</th>\n",
       "      <td>5</td>\n",
       "      <td>N</td>\n",
       "      <td>N</td>\n",
       "      <td>P</td>\n",
       "      <td>P</td>\n",
       "      <td>P</td>\n",
       "      <td>N</td>\n",
       "      <td>NB</td>\n",
       "    </tr>\n",
       "  </tbody>\n",
       "</table>\n",
       "</div>"
      ],
      "text/plain": [
       "   id IR MR FF CR CO OP Class\n",
       "0   1  P  P  A  A  A  P    NB\n",
       "1   2  N  N  A  A  A  N    NB\n",
       "2   3  A  A  A  A  A  A    NB\n",
       "3   4  P  P  P  P  P  P    NB\n",
       "4   5  N  N  P  P  P  N    NB"
      ]
     },
     "execution_count": 7,
     "metadata": {},
     "output_type": "execute_result"
    }
   ],
   "source": [
    "dataset.head()"
   ]
  },
  {
   "cell_type": "code",
   "execution_count": 8,
   "metadata": {},
   "outputs": [
    {
     "data": {
      "text/html": [
       "<div>\n",
       "<style scoped>\n",
       "    .dataframe tbody tr th:only-of-type {\n",
       "        vertical-align: middle;\n",
       "    }\n",
       "\n",
       "    .dataframe tbody tr th {\n",
       "        vertical-align: top;\n",
       "    }\n",
       "\n",
       "    .dataframe thead th {\n",
       "        text-align: right;\n",
       "    }\n",
       "</style>\n",
       "<table border=\"1\" class=\"dataframe\">\n",
       "  <thead>\n",
       "    <tr style=\"text-align: right;\">\n",
       "      <th></th>\n",
       "      <th>IR</th>\n",
       "      <th>MR</th>\n",
       "      <th>FF</th>\n",
       "      <th>CR</th>\n",
       "      <th>CO</th>\n",
       "      <th>OP</th>\n",
       "      <th>Class</th>\n",
       "    </tr>\n",
       "  </thead>\n",
       "  <tbody>\n",
       "    <tr>\n",
       "      <th>count</th>\n",
       "      <td>250</td>\n",
       "      <td>250</td>\n",
       "      <td>250</td>\n",
       "      <td>250</td>\n",
       "      <td>250</td>\n",
       "      <td>250</td>\n",
       "      <td>250</td>\n",
       "    </tr>\n",
       "    <tr>\n",
       "      <th>unique</th>\n",
       "      <td>3</td>\n",
       "      <td>3</td>\n",
       "      <td>3</td>\n",
       "      <td>3</td>\n",
       "      <td>3</td>\n",
       "      <td>3</td>\n",
       "      <td>2</td>\n",
       "    </tr>\n",
       "    <tr>\n",
       "      <th>top</th>\n",
       "      <td>N</td>\n",
       "      <td>N</td>\n",
       "      <td>N</td>\n",
       "      <td>N</td>\n",
       "      <td>N</td>\n",
       "      <td>N</td>\n",
       "      <td>NB</td>\n",
       "    </tr>\n",
       "    <tr>\n",
       "      <th>freq</th>\n",
       "      <td>89</td>\n",
       "      <td>119</td>\n",
       "      <td>119</td>\n",
       "      <td>94</td>\n",
       "      <td>103</td>\n",
       "      <td>114</td>\n",
       "      <td>143</td>\n",
       "    </tr>\n",
       "  </tbody>\n",
       "</table>\n",
       "</div>"
      ],
      "text/plain": [
       "         IR   MR   FF   CR   CO   OP Class\n",
       "count   250  250  250  250  250  250   250\n",
       "unique    3    3    3    3    3    3     2\n",
       "top       N    N    N    N    N    N    NB\n",
       "freq     89  119  119   94  103  114   143"
      ]
     },
     "execution_count": 8,
     "metadata": {},
     "output_type": "execute_result"
    }
   ],
   "source": [
    "dataset.describe(include = ['O'])"
   ]
  },
  {
   "cell_type": "code",
   "execution_count": 9,
   "metadata": {},
   "outputs": [
    {
     "name": "stdout",
     "output_type": "stream",
     "text": [
      "<class 'pandas.core.frame.DataFrame'>\n",
      "RangeIndex: 250 entries, 0 to 249\n",
      "Data columns (total 8 columns):\n",
      "id       250 non-null int64\n",
      "IR       250 non-null object\n",
      "MR       250 non-null object\n",
      "FF       250 non-null object\n",
      "CR       250 non-null object\n",
      "CO       250 non-null object\n",
      "OP       250 non-null object\n",
      "Class    250 non-null object\n",
      "dtypes: int64(1), object(7)\n",
      "memory usage: 15.7+ KB\n"
     ]
    }
   ],
   "source": [
    "dataset.info()"
   ]
  },
  {
   "cell_type": "code",
   "execution_count": 10,
   "metadata": {},
   "outputs": [
    {
     "data": {
      "text/plain": [
       "NB    143\n",
       "B     107\n",
       "Name: Class, dtype: int64"
      ]
     },
     "execution_count": 10,
     "metadata": {},
     "output_type": "execute_result"
    }
   ],
   "source": [
    "dataset['Class'].value_counts()"
   ]
  },
  {
   "cell_type": "code",
   "execution_count": 11,
   "metadata": {},
   "outputs": [
    {
     "name": "stdout",
     "output_type": "stream",
     "text": [
      "       Class Labels  Percentage\n",
      "0  None Bankcruptcy        57.2\n",
      "1        Bankruptcy        42.8\n"
     ]
    }
   ],
   "source": [
    "counts = dataset['Class'].value_counts()\n",
    "NB = counts[0]\n",
    "B = counts[1]\n",
    "\n",
    "PercentageofNB = (NB / (NB + B)) * 100\n",
    "PercentageofB = (B / (NB + B)) * 100\n",
    "\n",
    "df = pd.DataFrame({'Class Labels': ['None Bankcruptcy','Bankruptcy'], 'Percentage': [PercentageofNB,PercentageofB]})\n",
    "print(df)"
   ]
  },
  {
   "cell_type": "code",
   "execution_count": 12,
   "metadata": {},
   "outputs": [
    {
     "data": {
      "text/plain": [
       "id       0\n",
       "IR       0\n",
       "MR       0\n",
       "FF       0\n",
       "CR       0\n",
       "CO       0\n",
       "OP       0\n",
       "Class    0\n",
       "dtype: int64"
      ]
     },
     "execution_count": 12,
     "metadata": {},
     "output_type": "execute_result"
    }
   ],
   "source": [
    "#Check the null values of the dataset\n",
    "dataset.isnull().sum()"
   ]
  },
  {
   "cell_type": "code",
   "execution_count": 13,
   "metadata": {},
   "outputs": [
    {
     "data": {
      "image/png": "[encoded data removed]",
      "text/plain": [
       "<Figure size 720x432 with 6 Axes>"
      ]
     },
     "metadata": {},
     "output_type": "display_data"
    }
   ],
   "source": [
    "f,ax = plt.subplots(2,3, figsize = (10,6))\n",
    "\n",
    "\n",
    "dataset[['IR','Class']].groupby('IR').count().plot.pie(subplots = True, autopct = '%.2f%%', ax = ax[0,0])\n",
    "ax[0,0].legend(loc = 'lower left')\n",
    "ax[0,0].set_title('IR')\n",
    "\n",
    "dataset[['MR','Class']].groupby('MR').count().plot.pie(subplots = True, autopct = '%.2f%%', ax = ax[0,1])\n",
    "ax[0,1].legend(loc = 'lower left')\n",
    "ax[0,1].set_title('MR')\n",
    "\n",
    "dataset[['FF','Class']].groupby('FF').count().plot.pie(subplots = True, autopct = '%.2f%%', ax = ax[0,2])\n",
    "ax[0,2].legend(loc = 'lower left')\n",
    "ax[0,2].set_title('FF')\n",
    "\n",
    "dataset[['CR','Class']].groupby('CR').count().plot.pie(subplots = True, autopct = '%.2f%%', ax = ax[1,0])\n",
    "ax[1,0].legend(loc = 'lower left')\n",
    "ax[1,0].set_title('CR')\n",
    "\n",
    "dataset[['CO','Class']].groupby('CO').count().plot.pie(subplots = True, autopct = '%.2f%%', ax = ax[1,1])\n",
    "ax[1,1].legend(loc = 'lower left')\n",
    "ax[1,1].set_title('CO')\n",
    "\n",
    "dataset[['OP','Class']].groupby('OP').count().plot.pie(subplots = True, autopct = '%.2f%%', ax = ax[1,2])\n",
    "ax[1,2].legend(loc = 'lower left')\n",
    "ax[1,2].set_title('OP')\n",
    "\n",
    "plt.show()"
   ]
  },
  {
   "cell_type": "code",
   "execution_count": 14,
   "metadata": {},
   "outputs": [
    {
     "data": {
      "image/png": "[encoded data removed]",
      "text/plain": [
       "<Figure size 720x432 with 6 Axes>"
      ]
     },
     "metadata": {
      "needs_background": "light"
     },
     "output_type": "display_data"
    }
   ],
   "source": [
    "f,ax = plt.subplots(2,3,figsize = (10,6))\n",
    "\n",
    "sns.countplot(x = 'IR', hue = 'Class', data = dataset, order = dataset['IR'].value_counts().sort_values().index, ax = ax[0,0])\n",
    "sns.countplot(x = 'MR', hue = 'Class', data = dataset, order = dataset['MR'].value_counts().sort_values().index, ax = ax[0,1])\n",
    "sns.countplot(x = 'FF', hue = 'Class', data = dataset, order = dataset['FF'].value_counts().sort_values().index, ax = ax[0,2])\n",
    "sns.countplot(x = 'CR', hue = 'Class', data = dataset, order = dataset['CR'].value_counts().sort_values().index, ax = ax[1,0])\n",
    "sns.countplot(x = 'CO', hue = 'Class', data = dataset, order = dataset['CO'].value_counts().sort_values().index, ax = ax[1,1])\n",
    "sns.countplot(x = 'OP', hue = 'Class', data = dataset, order = dataset['OP'].value_counts().sort_values().index, ax = ax[1,2])\n",
    "\n",
    "ax[0,0].legend(loc = 'lower left')\n",
    "ax[0,1].legend(loc = 'lower left')\n",
    "ax[0,2].legend(loc = 'lower left')\n",
    "ax[1,0].legend(loc = 'lower left')\n",
    "ax[1,1].legend(loc = 'lower left')\n",
    "ax[1,2].legend(loc = 'lower left')\n",
    "plt.show()"
   ]
  },
  {
   "cell_type": "code",
   "execution_count": 15,
   "metadata": {},
   "outputs": [],
   "source": [
    "#1. There are 4 features who contains the N, negative values more than 40% distribution of feature.\n",
    "#MR, FF, CO, OP\n",
    "#2. We can see that IR and CR have the more balance distribution among the features.\n",
    "\n",
    "#3. CO gets the highest percentage of P, positive values among the features. But the N, negative values is the highest too."
   ]
  },
  {
   "cell_type": "code",
   "execution_count": 16,
   "metadata": {},
   "outputs": [],
   "source": [
    "#Convert the P, A, N into numeric string -> numeric\n",
    "\n",
    "#A:0 , N:1, P:2\n",
    "\n",
    "from sklearn.preprocessing import LabelEncoder\n",
    "labelE = LabelEncoder()\n",
    "\n",
    "dataset['IR'] = labelE.fit_transform(dataset['IR'])\n",
    "dataset['MR'] = labelE.fit_transform(dataset['MR'])\n",
    "dataset['FF'] = labelE.fit_transform(dataset['FF'])\n",
    "dataset['CR'] = labelE.fit_transform(dataset['CR'])\n",
    "dataset['CO'] = labelE.fit_transform(dataset['CO'])\n",
    "dataset['OP'] = labelE.fit_transform(dataset['OP'])\n",
    "\n",
    "dataset['Class'] = labelE.fit_transform(dataset['Class'])"
   ]
  },
  {
   "cell_type": "code",
   "execution_count": 17,
   "metadata": {},
   "outputs": [
    {
     "data": {
      "text/html": [
       "<div>\n",
       "<style scoped>\n",
       "    .dataframe tbody tr th:only-of-type {\n",
       "        vertical-align: middle;\n",
       "    }\n",
       "\n",
       "    .dataframe tbody tr th {\n",
       "        vertical-align: top;\n",
       "    }\n",
       "\n",
       "    .dataframe thead th {\n",
       "        text-align: right;\n",
       "    }\n",
       "</style>\n",
       "<table border=\"1\" class=\"dataframe\">\n",
       "  <thead>\n",
       "    <tr style=\"text-align: right;\">\n",
       "      <th></th>\n",
       "      <th>id</th>\n",
       "      <th>IR</th>\n",
       "      <th>MR</th>\n",
       "      <th>FF</th>\n",
       "      <th>CR</th>\n",
       "      <th>CO</th>\n",
       "      <th>OP</th>\n",
       "      <th>Class</th>\n",
       "    </tr>\n",
       "  </thead>\n",
       "  <tbody>\n",
       "    <tr>\n",
       "      <th>0</th>\n",
       "      <td>1</td>\n",
       "      <td>2</td>\n",
       "      <td>2</td>\n",
       "      <td>0</td>\n",
       "      <td>0</td>\n",
       "      <td>0</td>\n",
       "      <td>2</td>\n",
       "      <td>1</td>\n",
       "    </tr>\n",
       "    <tr>\n",
       "      <th>1</th>\n",
       "      <td>2</td>\n",
       "      <td>1</td>\n",
       "      <td>1</td>\n",
       "      <td>0</td>\n",
       "      <td>0</td>\n",
       "      <td>0</td>\n",
       "      <td>1</td>\n",
       "      <td>1</td>\n",
       "    </tr>\n",
       "    <tr>\n",
       "      <th>2</th>\n",
       "      <td>3</td>\n",
       "      <td>0</td>\n",
       "      <td>0</td>\n",
       "      <td>0</td>\n",
       "      <td>0</td>\n",
       "      <td>0</td>\n",
       "      <td>0</td>\n",
       "      <td>1</td>\n",
       "    </tr>\n",
       "    <tr>\n",
       "      <th>3</th>\n",
       "      <td>4</td>\n",
       "      <td>2</td>\n",
       "      <td>2</td>\n",
       "      <td>2</td>\n",
       "      <td>2</td>\n",
       "      <td>2</td>\n",
       "      <td>2</td>\n",
       "      <td>1</td>\n",
       "    </tr>\n",
       "    <tr>\n",
       "      <th>4</th>\n",
       "      <td>5</td>\n",
       "      <td>1</td>\n",
       "      <td>1</td>\n",
       "      <td>2</td>\n",
       "      <td>2</td>\n",
       "      <td>2</td>\n",
       "      <td>1</td>\n",
       "      <td>1</td>\n",
       "    </tr>\n",
       "  </tbody>\n",
       "</table>\n",
       "</div>"
      ],
      "text/plain": [
       "   id  IR  MR  FF  CR  CO  OP  Class\n",
       "0   1   2   2   0   0   0   2      1\n",
       "1   2   1   1   0   0   0   1      1\n",
       "2   3   0   0   0   0   0   0      1\n",
       "3   4   2   2   2   2   2   2      1\n",
       "4   5   1   1   2   2   2   1      1"
      ]
     },
     "execution_count": 17,
     "metadata": {},
     "output_type": "execute_result"
    }
   ],
   "source": [
    "dataset.head()"
   ]
  },
  {
   "cell_type": "code",
   "execution_count": 18,
   "metadata": {},
   "outputs": [],
   "source": [
    "#Study the feature selection for python\n",
    "#https://www.datacamp.com/community/tutorials/feature-selection-python\n",
    "\n",
    "# - Filter Methods\n",
    "# - Wrapper Methods\n",
    "# - Embedded Methods\n",
    "\n",
    "\n",
    "#Apply the weka function from python into the notebook\n",
    "\n",
    "#Installation the weka library on Ananconda\n",
    "#https://fracpete.github.io/python-weka-wrapper3/install.html#windows-using-anaconda\n",
    "    \n",
    "#Weka on python library \n",
    "#https://fracpete.github.io/python-weka-wrapper3/examples.html\n",
    "#https://weka.sourceforge.io/doc.dev/weka/attributeSelection/AttributeSelection.html\n",
    "    \n",
    "#Download the javabridge\n",
    "#https://www.lfd.uci.edu/~gohlke/pythonlibs/#javabridge"
   ]
  },
  {
   "cell_type": "code",
   "execution_count": 19,
   "metadata": {},
   "outputs": [],
   "source": [
    "#Attribute Selection\n",
    "\n",
    "#from weka.attribute_selection import ASSearch, ASEvaluation, AttributeSelection\n",
    "#search = ASSearch(classname = 'weka.attributeSelection.BestFirst', options = ['-D','1','-N','S'])\n",
    "#evaluator = ASEvaluation(classname = 'weka.attributeSelection.CfsSubsetEval', options = ['-P','1','-E','1'])\n",
    "#attsel = AttributeSelection()\n",
    "#attsel.search(search)\n",
    "#attsel.evaluator(evaluator)\n",
    "#attsel.select_attributes(dataset)"
   ]
  },
  {
   "cell_type": "markdown",
   "metadata": {},
   "source": [
    "During my FYP time, my supervisor told me that go through the feature selection for the data cleaning. \n",
    "This practice is good to enhance the performance of model & save the running time for the model. \n",
    "\n",
    "But, does it necessary go through the feature selection?\n",
    "As this is the dataset which contain 7 features only.\n",
    "\n",
    "Hence, we would like to the compare the accuracy score of the model with different dataset.\n",
    "One is the original dataset, Another is the dataset go through the feature selection."
   ]
  },
  {
   "cell_type": "markdown",
   "metadata": {},
   "source": [
    "#### Original Dataset"
   ]
  },
  {
   "cell_type": "code",
   "execution_count": 20,
   "metadata": {},
   "outputs": [],
   "source": [
    "from sklearn.model_selection import train_test_split\n",
    "from sklearn.naive_bayes import GaussianNB\n",
    "from sklearn.tree import DecisionTreeClassifier\n",
    "from sklearn.neighbors import KNeighborsClassifier\n",
    "\n",
    "from sklearn.metrics import accuracy_score\n",
    "from sklearn.model_selection import KFold\n",
    "from sklearn.model_selection import cross_val_score"
   ]
  },
  {
   "cell_type": "code",
   "execution_count": 21,
   "metadata": {},
   "outputs": [],
   "source": [
    "df = dataset.copy()\n",
    "df = df.drop('id', axis = 1)\n",
    "\n",
    "df_X = df.drop('Class', axis = 1)\n",
    "df_Y = df['Class']\n",
    "\n",
    "x_train,x_test,y_train,y_test = train_test_split(df_X,df_Y, test_size = 0.2, random_state = 0)"
   ]
  },
  {
   "cell_type": "code",
   "execution_count": 22,
   "metadata": {},
   "outputs": [
    {
     "name": "stdout",
     "output_type": "stream",
     "text": [
      "Score Method for Training Dataset from ML Class:  0.96\n",
      "Score Method for Testing Dataset from ML Class:  0.98\n",
      "Accuracy_Score Class:  0.98\n",
      "\n",
      "The mean score of K-fold Cross Validation for training dataset 0.9598930481283423\n",
      "The mean score of K-fold Cross Validation for testing dataset 0.9814814814814815\n"
     ]
    }
   ],
   "source": [
    "#1. Naive Bayes\n",
    "\n",
    "NB = GaussianNB()\n",
    "NB.fit(x_train, y_train)\n",
    "NB_y_pred = NB.predict(x_test)\n",
    "\n",
    "print('Score Method for Training Dataset from ML Class: ', NB.score(x_train,y_train))\n",
    "print('Score Method for Testing Dataset from ML Class: ', NB.score(x_test,y_test))\n",
    "NB_accuracy = accuracy_score(y_test,NB_y_pred)\n",
    "print('Accuracy_Score Class: ', NB_accuracy)\n",
    "\n",
    "\n",
    "Kfold = KFold(n_splits = 6)\n",
    "NBScore = cross_val_score(NB,x_train,y_train, cv = Kfold)\n",
    "NBScore2 = cross_val_score(NB,x_test,y_test, cv = Kfold)\n",
    "\n",
    "\n",
    "#print('\\nK-fold Cross Validation for training dataset: ')\n",
    "#for i in range(len(NBScore)):\n",
    " #   print( i+1 ,NBScore[i])\n",
    "    \n",
    "#print('\\nK-fold Cross Validation for testing dataset: ')\n",
    "#for i in range(len(NBScore2)):\n",
    " #   print( i+1 ,NBScore2[i])\n",
    "    \n",
    "print('\\nThe mean score of K-fold Cross Validation for training dataset', np.mean(NBScore))\n",
    "print('The mean score of K-fold Cross Validation for testing dataset', np.mean(NBScore2))"
   ]
  },
  {
   "cell_type": "code",
   "execution_count": 23,
   "metadata": {},
   "outputs": [
    {
     "name": "stdout",
     "output_type": "stream",
     "text": [
      "Score Method for the Training dataset from ML Class: 1.0\n",
      "Score Method for the Testing dataset from ML Class: 1.0\n",
      "Accuracy_Score Class:  1.0\n",
      "\n",
      "The mean score of K-fold Cross Validation for training dataset 0.9949494949494949\n",
      "The mean score of K-fold Cross Validation for testing dataset 0.9606481481481483\n"
     ]
    }
   ],
   "source": [
    "#2. Decision Tree\n",
    "\n",
    "DT = DecisionTreeClassifier()\n",
    "DT.fit(x_train,y_train)\n",
    "DT_y_pred = DT.predict(x_test)\n",
    "\n",
    "print('Score Method for the Training dataset from ML Class:' , DT.score(x_train,y_train))\n",
    "print('Score Method for the Testing dataset from ML Class:' , DT.score(x_test,y_test))\n",
    "DT_accuracy = accuracy_score(y_test,DT_y_pred)\n",
    "print('Accuracy_Score Class: ', DT_accuracy)\n",
    "\n",
    "DTScore = cross_val_score(DT,x_train,y_train, cv = Kfold)\n",
    "DTScore2 = cross_val_score(DT,x_test,y_test, cv = Kfold)\n",
    "\n",
    "print('\\nThe mean score of K-fold Cross Validation for training dataset', np.mean(DTScore))\n",
    "print('The mean score of K-fold Cross Validation for testing dataset', np.mean(DTScore2))"
   ]
  },
  {
   "cell_type": "code",
   "execution_count": 24,
   "metadata": {},
   "outputs": [
    {
     "name": "stdout",
     "output_type": "stream",
     "text": [
      "Score Method for Training Dataset from ML Class:  1.0\n",
      "Score Method for Testing Dataset from ML Class:  1.0\n",
      "Accuracy_Score Class:  1.0\n",
      "\n",
      "The mean score of K-fold Cross Validation for training dataset 0.9300356506238859\n",
      "The mean score of K-fold Cross Validation for testing dataset 0.7569444444444443\n"
     ]
    }
   ],
   "source": [
    "#3. K-NN\n",
    "KNN = KNeighborsClassifier()\n",
    "KNN.fit(x_train,y_train)\n",
    "KNN_y_pred = KNN.predict(x_test)\n",
    "\n",
    "print('Score Method for Training Dataset from ML Class: ', KNN.score(x_train,y_train))\n",
    "print('Score Method for Testing Dataset from ML Class: ', KNN.score(x_test,y_test))\n",
    "KNN_accuracy = accuracy_score(y_test, KNN_y_pred)\n",
    "print('Accuracy_Score Class: ', KNN_accuracy)\n",
    "\n",
    "KNNScore = cross_val_score(KNN,x_train,y_train,cv = Kfold)\n",
    "KNNScore2 = cross_val_score(KNN,x_test,y_test,cv = Kfold)\n",
    "\n",
    "print('\\nThe mean score of K-fold Cross Validation for training dataset', np.mean(KNNScore))\n",
    "print('The mean score of K-fold Cross Validation for testing dataset', np.mean(KNNScore2))"
   ]
  },
  {
   "cell_type": "markdown",
   "metadata": {},
   "source": [
    "**Observation**\n",
    "\n",
    "First of all, I fit the model from 3 ML Algorithms into the trainig dataset & testing dataset.\n",
    "It seems like all of the models have the great performance.\n",
    "Naive Bayes model took **96%** from training dataset, and it had the improved performance in the testing dataset.\n",
    "Which have **98%** of accuracy score.\n",
    "At the same time, Decision Tree & KNN model did a great job for both dataset.\n",
    "Which had the **100%** of accuracy performance.\n",
    "\n",
    "\n",
    "Secondly, I apply the k-fold cross validation method on these 3 models. And I set the k values to 6.\n",
    "Because both datasets have the 6 features, the k-value is corresponding to the numbers of the features.\n",
    "These are the performance of model after the k-fold cross validation.\n",
    "\n",
    "1. Naive Bayes 96% -> 98%\n",
    "2. Decision Tree 100% -> 96%\n",
    "3. KNN 93% -> 75%\n",
    "\n",
    "We suprised that **Decision Tree & KNN** model have dropped the performance after the k-fold cross-validation.\n",
    "Especially the KNN model.It took the 100% of accuracy at the first stage.\n",
    "**we shocked that it took 93% for the training dataset after the k-fold cross-validation.\n",
    "and it took only 75% of accuracy for the testing dataset.**\n",
    "\n",
    "But the model based on **Naive Bayes** have the good performance. It remains the performance even apply the k-fold cross-validation method."
   ]
  },
  {
   "cell_type": "markdown",
   "metadata": {},
   "source": [
    "**Future Plan**\n",
    "1. Enhance the KNN-model from the k-fold cross validation method"
   ]
  },
  {
   "cell_type": "markdown",
   "metadata": {},
   "source": [
    "## Feature Selection"
   ]
  },
  {
   "cell_type": "code",
   "execution_count": 25,
   "metadata": {},
   "outputs": [
    {
     "name": "stdout",
     "output_type": "stream",
     "text": [
      "id   -0.857006\n",
      "FF   -0.047966\n",
      "IR    0.015836\n",
      "MR    0.100632\n",
      "CR    0.152045\n",
      "OP    0.159147\n",
      "CO    0.203521\n",
      "dtype: float64\n"
     ]
    }
   ],
   "source": [
    "#Check the correlation between the features with the Class Labels\n",
    "importances = dataset.drop('Class',axis = 1).apply(lambda x: x.corr(dataset['Class']))\n",
    "index = np.argsort(importances)\n",
    "print(importances[index])"
   ]
  },
  {
   "cell_type": "code",
   "execution_count": 26,
   "metadata": {},
   "outputs": [
    {
     "data": {
      "text/html": [
       "<div>\n",
       "<style scoped>\n",
       "    .dataframe tbody tr th:only-of-type {\n",
       "        vertical-align: middle;\n",
       "    }\n",
       "\n",
       "    .dataframe tbody tr th {\n",
       "        vertical-align: top;\n",
       "    }\n",
       "\n",
       "    .dataframe thead th {\n",
       "        text-align: right;\n",
       "    }\n",
       "</style>\n",
       "<table border=\"1\" class=\"dataframe\">\n",
       "  <thead>\n",
       "    <tr style=\"text-align: right;\">\n",
       "      <th></th>\n",
       "      <th>Features</th>\n",
       "      <th>Correlations</th>\n",
       "    </tr>\n",
       "  </thead>\n",
       "  <tbody>\n",
       "    <tr>\n",
       "      <th>0</th>\n",
       "      <td>id</td>\n",
       "      <td>-0.857006</td>\n",
       "    </tr>\n",
       "    <tr>\n",
       "      <th>1</th>\n",
       "      <td>FF</td>\n",
       "      <td>-0.047966</td>\n",
       "    </tr>\n",
       "    <tr>\n",
       "      <th>2</th>\n",
       "      <td>IR</td>\n",
       "      <td>0.015836</td>\n",
       "    </tr>\n",
       "    <tr>\n",
       "      <th>3</th>\n",
       "      <td>MR</td>\n",
       "      <td>0.100632</td>\n",
       "    </tr>\n",
       "    <tr>\n",
       "      <th>4</th>\n",
       "      <td>CR</td>\n",
       "      <td>0.152045</td>\n",
       "    </tr>\n",
       "    <tr>\n",
       "      <th>5</th>\n",
       "      <td>OP</td>\n",
       "      <td>0.159147</td>\n",
       "    </tr>\n",
       "    <tr>\n",
       "      <th>6</th>\n",
       "      <td>CO</td>\n",
       "      <td>0.203521</td>\n",
       "    </tr>\n",
       "  </tbody>\n",
       "</table>\n",
       "</div>"
      ],
      "text/plain": [
       "  Features  Correlations\n",
       "0       id     -0.857006\n",
       "1       FF     -0.047966\n",
       "2       IR      0.015836\n",
       "3       MR      0.100632\n",
       "4       CR      0.152045\n",
       "5       OP      0.159147\n",
       "6       CO      0.203521"
      ]
     },
     "execution_count": 26,
     "metadata": {},
     "output_type": "execute_result"
    }
   ],
   "source": [
    "df_importance = pd.DataFrame(importances[index])\n",
    "df_importance = df_importance.reset_index()\n",
    "df_importance = df_importance.rename(columns = {'index': 'Features', 0: 'Correlations'})\n",
    "df_importance"
   ]
  },
  {
   "cell_type": "code",
   "execution_count": 27,
   "metadata": {},
   "outputs": [
    {
     "data": {
      "image/png": "[encoded data removed]",
      "text/plain": [
       "<Figure size 432x288 with 1 Axes>"
      ]
     },
     "metadata": {
      "needs_background": "light"
     },
     "output_type": "display_data"
    }
   ],
   "source": [
    "#names = ['id','FF','IR','MR','CR','OP','CO']\n",
    "plt.barh(df_importance['Features'],df_importance['Correlations'])\n",
    "plt.xlabel('Range of the importance of the features')\n",
    "#plt.yticks(range(len(index)), [names[i] for i in index])\n",
    "plt.show()"
   ]
  },
  {
   "cell_type": "code",
   "execution_count": 28,
   "metadata": {},
   "outputs": [],
   "source": [
    "#We can see that ID & FF features have the negative correlation with the class labels. \n",
    "#Which means that it doesn't contribute much to the modeling"
   ]
  },
  {
   "cell_type": "markdown",
   "metadata": {},
   "source": [
    "### 1. Filter Methods | Chi-Square Features"
   ]
  },
  {
   "cell_type": "code",
   "execution_count": 29,
   "metadata": {},
   "outputs": [
    {
     "name": "stdout",
     "output_type": "stream",
     "text": [
      "1. Filter Methods | Chi Square Features:  ['MR', 'CR', 'CO', 'OP']\n"
     ]
    }
   ],
   "source": [
    "from sklearn.feature_selection import SelectKBest\n",
    "from sklearn.feature_selection import chi2\n",
    "\n",
    "#SelectKBest = select the k highest scoring features\n",
    "#chi2 = Chi Squared Test\n",
    "chi_selector = SelectKBest(score_func = chi2, k = 4)\n",
    "chi_selector.fit(df_X,df_Y)\n",
    "chi_support = chi_selector.get_support() #Boolean value to show the suitable feature\n",
    "chi_feature = df.loc[:,chi_support].columns.tolist()\n",
    "print('1. Filter Methods | Chi Square Features: ', chi_feature)"
   ]
  },
  {
   "cell_type": "markdown",
   "metadata": {},
   "source": [
    "### 1.1 Filter Methods | Pearson Correlation"
   ]
  },
  {
   "cell_type": "code",
   "execution_count": 30,
   "metadata": {},
   "outputs": [
    {
     "name": "stdout",
     "output_type": "stream",
     "text": [
      "1.1 Filter Methods |Pearson Correlation:  ['MR', 'CR', 'OP', 'CO']\n"
     ]
    }
   ],
   "source": [
    "corr_list = []\n",
    "df_columns_name = df_X.columns.tolist()\n",
    "for i in df_columns_name:\n",
    "    df_corr = np.corrcoef(df_X[i],df_Y)[0,1]\n",
    "    corr_list.append(df_corr)\n",
    "df_pearson = df_X.iloc[:,np.argsort(corr_list)[-4:]].columns.tolist() #np.argsoft\" ranking method\n",
    "print('1.1 Filter Methods |Pearson Correlation: ', df_pearson)"
   ]
  },
  {
   "cell_type": "markdown",
   "metadata": {},
   "source": [
    "### 2. Wrapper Methods | Step Forward Feature selection"
   ]
  },
  {
   "cell_type": "code",
   "execution_count": 31,
   "metadata": {},
   "outputs": [
    {
     "name": "stdout",
     "output_type": "stream",
     "text": [
      "1. Sequential Forward Selection | Gaussian Naive Bayes:  ('IR', 'MR', 'CO', 'OP')\n",
      "2. Sequential Forward Selection | Decision Tree:  ('IR', 'FF', 'CR', 'CO')\n",
      "3. Sequential Forward Selection | KNN ('IR', 'CR', 'CO', 'OP')\n"
     ]
    }
   ],
   "source": [
    "from mlxtend.feature_selection import SequentialFeatureSelector as SFS\n",
    "\n",
    "\n",
    "#1. Gaussian NB\n",
    "sfs_NB = SFS(NB, k_features = 4, forward = True, floating = False, cv = 0)\n",
    "#DT: classifier\n",
    "#k_features: the number of features to create the subsets\n",
    "#forward = True: Forward Feature Selection\n",
    "#floating: False???\n",
    "#cv: cross validation fold\n",
    "sfs_NB.fit(df_X,df_Y)\n",
    "\n",
    "#2. Decision Tree \n",
    "sfs_DT = SFS(DT, k_features = 4, forward = True, floating = False, cv = 0)\n",
    "sfs_DT.fit(df_X,df_Y)\n",
    "\n",
    "#3. KNN\n",
    "sfs_KNN = SFS(KNN, k_features = 4, forward = True, floating = False, cv = 0)\n",
    "sfs_KNN.fit(df_X,df_Y)\n",
    "\n",
    "print('1. Sequential Forward Selection | Gaussian Naive Bayes: ',sfs_NB.k_feature_names_)\n",
    "print('2. Sequential Forward Selection | Decision Tree: ',sfs_DT.k_feature_names_)\n",
    "print('3. Sequential Forward Selection | KNN', sfs_KNN.k_feature_names_)\n",
    "\n",
    "#1. Sequential Forward Selection | Gaussian Naive Bayes:  ('IR', 'MR', 'CO', 'OP')\n",
    "#2. Sequential Forward Selection | Decision Tree:  ('IR', 'FF', 'CR', 'CO')\n",
    "#3. Sequential Forward Selection | KNN ('IR', 'CR', 'CO', 'OP')"
   ]
  },
  {
   "cell_type": "markdown",
   "metadata": {},
   "source": [
    "### 2.1 Wrapper Methods | Backward Elimination"
   ]
  },
  {
   "cell_type": "code",
   "execution_count": 32,
   "metadata": {},
   "outputs": [
    {
     "name": "stdout",
     "output_type": "stream",
     "text": [
      "1. Backward Elimination | Gaussian Naive Bayes:  ('IR', 'MR', 'FF', 'CO')\n",
      "2, Backward Elimination | Decision Tree:  ('IR', 'MR', 'FF', 'CO')\n",
      "3. Backward Elimination | KNN:  ('IR', 'CR', 'CO', 'OP')\n"
     ]
    }
   ],
   "source": [
    "#1. Gaussian Naive Bayes\n",
    "sfs_NB_BE = SFS(NB, k_features = 4, forward = False, floating = False, cv = 0 )\n",
    "sfs_NB_BE.fit(df_X,df_Y)\n",
    "\n",
    "#2. Decision Tree\n",
    "sfs_DT_BE = SFS(DT, k_features = 4, forward = False, floating = False, cv = 0)\n",
    "sfs_DT_BE.fit(df_X,df_Y)\n",
    "\n",
    "#3. KNN\n",
    "sfs_KNN_BE = SFS(KNN, k_features = 4, forward = False, floating = False, cv = 0)\n",
    "sfs_KNN_BE.fit(df_X,df_Y)\n",
    "\n",
    "print('1. Backward Elimination | Gaussian Naive Bayes: ', sfs_NB_BE.k_feature_names_)\n",
    "print('2, Backward Elimination | Decision Tree: ', sfs_DT_BE.k_feature_names_)\n",
    "print('3. Backward Elimination | KNN: ', sfs_KNN_BE.k_feature_names_)"
   ]
  },
  {
   "cell_type": "markdown",
   "metadata": {},
   "source": [
    "### 2.2. Wrapper Methods | Recursive Feature Elimination"
   ]
  },
  {
   "cell_type": "code",
   "execution_count": 49,
   "metadata": {},
   "outputs": [
    {
     "name": "stdout",
     "output_type": "stream",
     "text": [
      "1. Wrapper Methods | RFE | Decision Tree:  ['IR', 'CR', 'CO', 'OP']\n"
     ]
    }
   ],
   "source": [
    "from sklearn.feature_selection import RFE\n",
    "\n",
    "#P/S. RFE Method doesn't support the Gaussian NB, NB class & KNN, KNN Class\n",
    "\n",
    "\n",
    "#2. Decision Tree Classifier\n",
    "DT_RFE_selector = RFE(estimator = DT, n_features_to_select = 4)\n",
    "DT_RFE_selector.fit(df_X,df_Y)\n",
    "DT_RFE_support = DT_RFE_selector.get_support()\n",
    "DT_RFE_feature = df.loc[:,DT_RFE_support].columns.tolist()\n",
    "print('1. Wrapper Methods | RFE | Decision Tree: ', DT_RFE_feature)\n"
   ]
  },
  {
   "cell_type": "markdown",
   "metadata": {},
   "source": [
    "### 3. Embedded Methods | Lasso "
   ]
  },
  {
   "cell_type": "code",
   "execution_count": 34,
   "metadata": {},
   "outputs": [
    {
     "data": {
      "text/plain": [
       "Lasso(alpha=0.1, copy_X=True, fit_intercept=True, max_iter=1000,\n",
       "      normalize=False, positive=False, precompute=False, random_state=None,\n",
       "      selection='cyclic', tol=0.0001, warm_start=False)"
      ]
     },
     "execution_count": 34,
     "metadata": {},
     "output_type": "execute_result"
    }
   ],
   "source": [
    "from sklearn.linear_model import Lasso\n",
    "\n",
    "lasso = Lasso(alpha = 0.1)\n",
    "ls = lasso.fit(df_X,df_Y)\n",
    "ls"
   ]
  },
  {
   "cell_type": "markdown",
   "metadata": {},
   "source": [
    "**Observation: **\n",
    "\n",
    "We have 9 methods to build the subset by the feature selection method, and we set 4 features in the subset.\n",
    "According to the result, we can see that, most of the FE methods select **IR** as the first feature in the subset.\n",
    "The highest vote for the following features are **CR, CO, OP**.\n",
    "It's expected to have the result same with the bar graph of importance of features.\n",
    "Top 3 results of features are qualifed in the subset.\n",
    "Suprisingly, **IR** is lower than MR in the bar graph, but IR is qualified & be the first feature suggest by FE methods.<br/>\n",
    "\n",
    "Therefore, we decided to construct the subset [IR,CR,CO,OP] from the dataset.\n",
    "\n"
   ]
  },
  {
   "cell_type": "code",
   "execution_count": 35,
   "metadata": {},
   "outputs": [
    {
     "name": "stdout",
     "output_type": "stream",
     "text": [
      "The dimension of Training Dataset:  (200, 4)\n",
      "The dimension of Testing Dataset:  (50, 4)\n"
     ]
    }
   ],
   "source": [
    "Dataframe = dataset[['IR','CR','CO','OP','Class']]\n",
    "\n",
    "df_FE_X = Dataframe.drop('Class',axis = 1)\n",
    "df_FE_Y = Dataframe['Class']\n",
    "\n",
    "x_train_FE,x_test_FE,y_train_FE,y_test_FE = train_test_split(df_FE_X,df_FE_Y, test_size = 0.2, random_state = 0)\n",
    "print('The dimension of Training Dataset: ', x_train_FE.shape)\n",
    "print('The dimension of Testing Dataset: ', x_test_FE.shape)"
   ]
  },
  {
   "cell_type": "markdown",
   "metadata": {},
   "source": [
    "### Subset"
   ]
  },
  {
   "cell_type": "code",
   "execution_count": 41,
   "metadata": {},
   "outputs": [
    {
     "name": "stdout",
     "output_type": "stream",
     "text": [
      "Score Method for Training Dataset from ML Class:  0.975\n",
      "Score Method for Testing Dataset from ML Class:  0.96\n",
      "Accuracy_Score Class:  0.96\n",
      "\n",
      "The mean score of K-fold Cross Validation for training dataset 0.965\n",
      "The mean score of K-fold Cross Validation for testing dataset 0.9214743589743589\n"
     ]
    }
   ],
   "source": [
    "#1. Gaussian NB\n",
    "NB.fit(x_train_FE,y_train_FE)\n",
    "NB_FE_y_pred = NB.predict(x_test_FE)\n",
    "\n",
    "print('Score Method for Training Dataset from ML Class: ', NB.score(x_train_FE,y_train_FE))\n",
    "print('Score Method for Testing Dataset from ML Class: ', NB.score(x_test_FE,y_test_FE))\n",
    "NB_FE_accuracy = accuracy_score(y_test_FE,NB_FE_y_pred)\n",
    "print('Accuracy_Score Class: ', NB_FE_accuracy)\n",
    "\n",
    "Kfold_FE = KFold(n_splits = 4)\n",
    "NB_FE_score = cross_val_score(NB,x_train_FE, y_train_FE, cv = Kfold_FE)\n",
    "NB_FE_score2 = cross_val_score(NB,x_test_FE, y_test_FE, cv = Kfold_FE)\n",
    "\n",
    "#print('\\nK-fold Cross Validation for training dataset')\n",
    "#for i in range(len(NB_FE_score)):\n",
    " #   print(' {}. {}'.format(i+1, NB_FE_score[i]))\n",
    "\n",
    "#print('\\nK-fold Cross Validation for testing dataset')\n",
    "#for i in range(len(NB_FE_score2)):\n",
    " #   print(' {}. {}'.format(i+1, NB_FE_score2[i]))\n",
    "    \n",
    "\n",
    "print('\\nThe mean score of K-fold Cross Validation for training dataset', np.mean(NB_FE_score))\n",
    "print('The mean score of K-fold Cross Validation for testing dataset', np.mean(NB_FE_score2))"
   ]
  },
  {
   "cell_type": "code",
   "execution_count": 44,
   "metadata": {},
   "outputs": [
    {
     "name": "stdout",
     "output_type": "stream",
     "text": [
      "Score Method for Training Dataset from ML Class:  1.0\n",
      "Score Method for Testing Dataset from ML Class:  1.0\n",
      "Accuracy_Score Class:  1.0\n",
      "\n",
      "The mean score of K-fold Cross Validation for training dataset 1.0\n",
      "The mean score of K-fold Cross Validation for testing dataset 0.9599358974358975\n"
     ]
    }
   ],
   "source": [
    "#2. Decision Tree\n",
    "DT.fit(x_train_FE,y_train_FE)\n",
    "DT_FE_y_pred = DT.predict(x_test_FE)\n",
    "\n",
    "print('Score Method for Training Dataset from ML Class: ', DT.score(x_train_FE,y_train_FE))\n",
    "print('Score Method for Testing Dataset from ML Class: ', DT.score(x_test_FE,y_test_FE))\n",
    "DT_FE_accuracy = accuracy_score(y_test_FE,DT_FE_y_pred)\n",
    "print('Accuracy_Score Class: ', DT_FE_accuracy)\n",
    "\n",
    "DT_FE_score = cross_val_score(DT,x_train_FE,y_train_FE, cv = Kfold_FE)\n",
    "DT_FE_score2 = cross_val_score(DT,x_test_FE,y_test_FE, cv = Kfold_FE)\n",
    "\n",
    "print('\\nThe mean score of K-fold Cross Validation for training dataset', np.mean(DT_FE_score))\n",
    "print('The mean score of K-fold Cross Validation for testing dataset', np.mean(DT_FE_score2))"
   ]
  },
  {
   "cell_type": "code",
   "execution_count": 48,
   "metadata": {},
   "outputs": [
    {
     "name": "stdout",
     "output_type": "stream",
     "text": [
      "Score Method for Training Dataset from ML Class:  1.0\n",
      "Score Method for Testing Dataset from ML Class:  1.0\n",
      "Accuracy_Score Class:  1.0\n",
      "\n",
      "The mean score of K-fold Cross Validation for training dataset 0.945\n",
      "The mean score of K-fold Cross Validation for testing dataset 0.7355769230769231\n"
     ]
    }
   ],
   "source": [
    "#3. KNN \n",
    "KNN.fit(x_train_FE,y_train_FE)\n",
    "KNN_FE_y_pred = KNN.predict(x_test_FE)\n",
    "\n",
    "print('Score Method for Training Dataset from ML Class: ', KNN.score(x_train_FE,y_train_FE))\n",
    "print('Score Method for Testing Dataset from ML Class: ', KNN.score(x_train_FE,y_train_FE))\n",
    "KNN_FE_accuracy = accuracy_score(y_test_FE, KNN_FE_y_pred)\n",
    "print('Accuracy_Score Class: ', KNN_FE_accuracy)\n",
    "\n",
    "KNN_FE_score = cross_val_score(KNN,x_train_FE,y_train_FE, cv = Kfold_FE)\n",
    "KNN_FE_score2 = cross_val_score(KNN, x_test_FE, y_test_FE, cv = Kfold_FE)\n",
    "\n",
    "print('\\nThe mean score of K-fold Cross Validation for training dataset', np.mean(KNN_FE_score))\n",
    "print('The mean score of K-fold Cross Validation for testing dataset', np.mean(KNN_FE_score2))"
   ]
  },
  {
   "cell_type": "code",
   "execution_count": 37,
   "metadata": {},
   "outputs": [],
   "source": [
    "#17.2.2020\n",
    "\n",
    "#1. Write the observation about the performance of model fit into the subset from FE.\n",
    "#2. Create the dataframe to intepret the performance of model to contrast the Original dataset & subset"
   ]
  }
 ],
 "metadata": {
  "kernelspec": {
   "display_name": "Python 3",
   "language": "python",
   "name": "python3"
  },
  "language_info": {
   "codemirror_mode": {
    "name": "ipython",
    "version": 3
   },
   "file_extension": ".py",
   "mimetype": "text/x-python",
   "name": "python",
   "nbconvert_exporter": "python",
   "pygments_lexer": "ipython3",
   "version": "3.7.3"
  }
 },
 "nbformat": 4,
 "nbformat_minor": 2
}
